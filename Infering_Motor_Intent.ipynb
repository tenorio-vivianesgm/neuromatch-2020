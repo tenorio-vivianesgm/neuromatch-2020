{
  "nbformat": 4,
  "nbformat_minor": 0,
  "metadata": {
    "colab": {
      "name": "Infering Motor Intent.ipynb",
      "provenance": [],
      "collapsed_sections": [],
      "toc_visible": true,
      "include_colab_link": true
    },
    "kernelspec": {
      "name": "python3",
      "display_name": "Python 3"
    }
  },
  "cells": [
    {
      "cell_type": "markdown",
      "metadata": {
        "id": "view-in-github",
        "colab_type": "text"
      },
      "source": [
        "<a href=\"https://colab.research.google.com/github/tenorio-vivianesgm/neuromatch-2020/blob/group-project/Infering_Motor_Intent.ipynb\" target=\"_parent\"><img src=\"https://colab.research.google.com/assets/colab-badge.svg\" alt=\"Open In Colab\"/></a>"
      ]
    },
    {
      "cell_type": "markdown",
      "metadata": {
        "id": "nyIYu5N3Szlw",
        "colab_type": "text"
      },
      "source": [
        "## Project Information\n",
        "`project proposal`:\n",
        "https://docs.google.com/document/d/1vX-ZZseIFAHCuJs9PbTi6GtOGhWsJlzx8OSeq-VhFVY/edit#\n",
        "\n",
        "`paper location`: https://www.nature.com/articles/s41586-019-1787-x <br>\n",
        "`Data Loading Notebook`: https://colab.research.google.com/github/NeuromatchAcademy/course-content/blob/master/projects/load_steinmetz_decisions.ipynb#scrollTo=mmOarX5w16CR <br>\n",
        "`NMA Project Information`: https://github.com/NeuromatchAcademy/course-content/tree/master/projects\n",
        "\n"
      ]
    },
    {
      "cell_type": "markdown",
      "metadata": {
        "id": "1zp4cLI-Ba8D",
        "colab_type": "text"
      },
      "source": [
        "# Initial Dataset Loading and Setup"
      ]
    },
    {
      "cell_type": "markdown",
      "metadata": {
        "id": "BZnXKmKJyJbI",
        "colab_type": "text"
      },
      "source": [
        "## Imports and Init Code\n"
      ]
    },
    {
      "cell_type": "code",
      "metadata": {
        "id": "akwGmExcHaFP",
        "colab_type": "code",
        "colab": {
          "base_uri": "https://localhost:8080/",
          "height": 54
        },
        "outputId": "249d70b7-2a06-44c9-f6be-adcc2d704fe0"
      },
      "source": [
        "import os, requests\n",
        "import datetime as dt\n",
        "import sklearn as sk \n",
        "import pandas as pd\n",
        "import numpy as np\n",
        "import matplotlib.pyplot as plt\n",
        "\n",
        "#@title Figure Settings\n",
        "import ipywidgets as widgets\n",
        "plt.style.use(\"https://raw.githubusercontent.com/NeuromatchAcademy/course-content/master/nma.mplstyle\")\n",
        "%matplotlib inline\n",
        "%config InlineBackend.figure_format = 'retina'\n",
        "\n",
        "#@title import matplotlib and set defaults\n",
        "from matplotlib import rcParams \n",
        "from matplotlib import pyplot as plt\n",
        "rcParams['figure.figsize'] = [20, 4]\n",
        "rcParams['font.size'] =15\n",
        "rcParams['axes.spines.top'] = False\n",
        "rcParams['axes.spines.right'] = False\n",
        "rcParams['figure.autolayout'] = True\n",
        "print(\"done\")\n",
        "\n",
        "print(dt.datetime.today().strftime(\"%I:%M:%S, %A %d, %B %Y\"))\n"
      ],
      "execution_count": 2,
      "outputs": [
        {
          "output_type": "stream",
          "text": [
            "done\n",
            "04:24:33, Wednesday 29, July 2020\n"
          ],
          "name": "stdout"
        }
      ]
    },
    {
      "cell_type": "markdown",
      "metadata": {
        "id": "mLBTnXMWyqHJ",
        "colab_type": "text"
      },
      "source": [
        "### ?debug\n"
      ]
    },
    {
      "cell_type": "code",
      "metadata": {
        "id": "qzqXWTIQyvZN",
        "colab_type": "code",
        "colab": {}
      },
      "source": [
        "debug = False"
      ],
      "execution_count": 3,
      "outputs": []
    },
    {
      "cell_type": "markdown",
      "metadata": {
        "id": "KAJPvuqyyUMS",
        "colab_type": "text"
      },
      "source": [
        "## Data Retrieval and Loading Code"
      ]
    },
    {
      "cell_type": "code",
      "metadata": {
        "id": "h_AF6vLRA5zZ",
        "colab_type": "code",
        "cellView": "both",
        "colab": {
          "base_uri": "https://localhost:8080/",
          "height": 35
        },
        "outputId": "58e3e98f-4eb3-46fc-904c-a4d8288b3380"
      },
      "source": [
        "debug = True if debug is None else debug\n",
        "\n",
        "if debug:\n",
        "  !wget 'https://helixcarinae.s3.us-east-1.amazonaws.com/sm_data.npy'\n",
        "  #!wget 'https://github.com/HelixCarinae/nma_decoding_motion/raw/master/sm_data.npy'\n",
        "  !ls ./\n",
        "  data = np.load('./sm_data.npy', allow_pickle=True)\n",
        "  print(data[0].keys())\n",
        "  print(\"Subset of Steinmetz Data for first 4 sessions loaded\")\n",
        "\n",
        "else:\n",
        "  fname = []\n",
        "  for j in range(3):\n",
        "    fname.append('steinmetz_part%d.npz'%j)\n",
        "  url = [\"https://osf.io/agvxh/download\"]\n",
        "  url.append(\"https://osf.io/uv3mw/download\")\n",
        "  url.append(\"https://osf.io/ehmw2/download\")\n",
        "\n",
        "  for j in range(len(url)):\n",
        "    if not os.path.isfile(fname[j]):\n",
        "      try:\n",
        "        r = requests.get(url[j])\n",
        "      except requests.ConnectionError:\n",
        "        print(\"!!! Failed to download data !!!\")\n",
        "      else:\n",
        "        if r.status_code != requests.codes.ok:\n",
        "          print(\"!!! Failed to download data !!!\")\n",
        "        else:\n",
        "          with open(fname[j], \"wb\") as fid:\n",
        "            fid.write(r.content)\n",
        "  \n",
        "  data = np.array([])\n",
        "  for j in range(len(fname)):\n",
        "    data = np.hstack((data, np.load('steinmetz_part%d.npz'%j, allow_pickle=True)['dat']))\n",
        "  print(\"Full Steinmetz dataset loaded\")\n",
        "\n",
        "dat = data[2]\n",
        "\n"
      ],
      "execution_count": 4,
      "outputs": [
        {
          "output_type": "stream",
          "text": [
            "Full Steinmetz dataset loaded\n"
          ],
          "name": "stdout"
        }
      ]
    },
    {
      "cell_type": "markdown",
      "metadata": {
        "id": "1NvM-q0MBfl8",
        "colab_type": "text"
      },
      "source": [
        "# Data Information and Structure"
      ]
    },
    {
      "cell_type": "markdown",
      "metadata": {
        "id": "QW9ijVqUIpAs",
        "colab_type": "text"
      },
      "source": [
        "\n",
        "### dataset information\n",
        "`alldat` contains 39 sessions from 10 mice, data from Steinmetz et al, 2019. Time bins for all measurements are 10ms, starting 500ms before stimulus onset. The mouse had to determine which side has the highest contrast. For each `dat = alldat[k]`, you have the following fields:\n",
        "\n",
        "* `dat['mouse_name']`: mouse name\n",
        "* `dat['date_exp']`: when a session was performed\n",
        "* `dat['spks']`: neurons by trials by time bins.\n",
        "* `dat['brain_area']`: brain area for each neuron recorded. \n",
        "* `dat['contrast_right']`: contrast level for the right stimulus, which is always contralateral to the recorded brain areas.\n",
        "* `dat['contrast_left']`: contrast level for left stimulus. \n",
        "* `dat['gocue']`: when the go cue sound was played. \n",
        "* `dat['response_times']`: when the response was registered, which has to be after the go cue. The mouse can turn the wheel before the go cue (and nearly always does!), but the stimulus on the screen won't move before the go cue.  \n",
        "* `dat['response']`: which side the response was (`-1`, `0`, `1`). When the right-side stimulus had higher contrast, the correct choice was `-1`. `0` is a no go response. \n",
        "* `dat['feedback_time']`: when feedback was provided. \n",
        "* `dat['feedback_type']`: if the feedback was positive (`+1`, reward) or negative (`-1`, white noise burst).  \n",
        "* `dat['wheel']`: exact position of the wheel that the mice uses to make a response, binned at `10ms`. \n",
        "* `dat['pupil']`: pupil area  (noisy, because pupil is very small) + pupil horizontal and vertical position. \n",
        "* `dat['lfp']`: recording of the local field potential in each brain area from this experiment, binned at `10ms`.\n",
        "* `dat['brain_area_lfp']`: brain area names for the LFP channels. \n",
        "* `dat['trough_to_peak']`: measures the width of the action potential waveform for each neuron. Widths `<=10` samples are \"putative fast spiking neurons\". \n",
        "* `dat['waveform_w']`: temporal components of spike waveforms. `w@u` reconstructs the time by channels action potential shape. \n",
        "* `dat['waveform_u]`: spatial components of spike waveforms.\n",
        "* `dat['%X%_passive']`: same as above for `X` = {`spks`, `lfp`, `pupil`, `wheel`, `contrast_left`, `contrast_right`} but for  passive trials at the end of the recording when the mouse was no longer engaged and stopped making responses. \n",
        "\n",
        "### (Potentially) Useful Data\n",
        "* `dat['spks']`: neurons by trials by time bins.\n",
        "* `dat['brain_area']`: brain area for each neuron recorded. \n",
        "* `dat['gocue']`: when the go cue sound was played. \n",
        "* `dat['response_times']`: when the response was registered, which has to be after the go cue. The mouse can turn the wheel before the go cue (and nearly always does!), but the stimulus on the screen won't move before the go cue.\n",
        "* `dat['response']`: which side the response was (`-1`, `0`, `1`). When the right-side stimulus had higher contrast, the correct choice was `-1`. `0` is a no go response. \n",
        "* `dat['feedback_time']`: when feedback was provided. \n",
        "* `dat['feedback_type']`: if the feedback was positive (`+1`, reward) or negative (`-1`, white noise burst). \n",
        "\n",
        "\n",
        "\n",
        "\n"
      ]
    },
    {
      "cell_type": "markdown",
      "metadata": {
        "id": "KN-lk3_cTlGH",
        "colab_type": "text"
      },
      "source": [
        ""
      ]
    },
    {
      "cell_type": "code",
      "metadata": {
        "id": "51z93XLTBnwq",
        "colab_type": "code",
        "colab": {
          "base_uri": "https://localhost:8080/",
          "height": 349
        },
        "outputId": "ad9cdd88-b367-4f63-b434-f5928e31785b"
      },
      "source": [
        "#@title Structure Information\n",
        "\n",
        "print((data.shape))\n",
        "print((data[0].keys()))\n",
        "print()\n",
        "\n",
        "print(type(data[0]))\n",
        "print(len(data[0]), '\\n')\n",
        "\n",
        "print(type(data[0]['spks']))\n",
        "print(len(data[0]['spks']), '\\n')\n",
        "print((data[0]['spks'][:1][:10][0][0][0]))\n",
        "\n",
        "print()\n",
        "print(type(data[0]['spks'][0]))\n",
        "print(len(data[0]['spks'][0]), '\\n')\n",
        "\n",
        "print(type(data[0]['spks'][0][0]))\n",
        "print(len(data[0]['spks'][0][0]), '\\n')\n",
        "\n",
        "\n",
        "## data structure\n",
        "# NDARRY of dictionaries containing N ndarrays\n",
        "#print(data[0]['spks'])"
      ],
      "execution_count": 5,
      "outputs": [
        {
          "output_type": "stream",
          "text": [
            "(39,)\n",
            "dict_keys(['spks', 'wheel', 'pupil', 'response', 'response_time', 'bin_size', 'stim_onset', 'contrast_right', 'contrast_left', 'brain_area', 'feedback_time', 'feedback_type', 'gocue', 'mouse_name', 'date_exp', 'trough_to_peak', 'active_trials', 'contrast_left_passive', 'contrast_right_passive', 'spks_passive', 'pupil_passive', 'wheel_passive', 'prev_reward', 'ccf', 'ccf_axes', 'cellid_orig', 'reaction_time', 'face', 'face_passive', 'licks', 'licks_passive'])\n",
            "\n",
            "<class 'dict'>\n",
            "31 \n",
            "\n",
            "<class 'numpy.ndarray'>\n",
            "734 \n",
            "\n",
            "0\n",
            "\n",
            "<class 'numpy.ndarray'>\n",
            "214 \n",
            "\n",
            "<class 'numpy.ndarray'>\n",
            "250 \n",
            "\n"
          ],
          "name": "stdout"
        }
      ]
    },
    {
      "cell_type": "markdown",
      "metadata": {
        "id": "HiZl84V8LCjG",
        "colab_type": "text"
      },
      "source": [
        "#Initial Analysis\n",
        "\n"
      ]
    },
    {
      "cell_type": "code",
      "metadata": {
        "id": "VOJywMzpQFIu",
        "colab_type": "code",
        "colab": {
          "base_uri": "https://localhost:8080/",
          "height": 770
        },
        "outputId": "7438dae1-0efc-4119-97be-617f0d581c2d"
      },
      "source": [
        "#@title Select Brain Areas\n",
        "\n",
        "\n",
        "df = pd.Series(np.nan, index=['MOs'])\n",
        "\n",
        "\n",
        "for k in range(len(data)):  \n",
        "  aux = pd.Series(np.where(data[k]['brain_area'] == 'MOs'))\n",
        "  df = df.append(aux, ignore_index=True)\n",
        "\n",
        "print(df)\n",
        "\n",
        "NN = len(dat['brain_area']) # number of neurons\n"
      ],
      "execution_count": 75,
      "outputs": [
        {
          "output_type": "stream",
          "text": [
            "0                                                   NaN\n",
            "1     [1, 4, 7, 8, 12, 17, 19, 22, 23, 25, 26, 27, 2...\n",
            "2                                                    []\n",
            "3                                                    []\n",
            "4     [947, 954, 958, 971, 979, 982, 983, 985, 996, ...\n",
            "5     [786, 810, 814, 822, 831, 845, 847, 851, 878, ...\n",
            "6                                                    []\n",
            "7                                                    []\n",
            "8     [3, 14, 16, 20, 23, 24, 25, 26, 39, 46, 48, 57...\n",
            "9                                                    []\n",
            "10                                                   []\n",
            "11                                                   []\n",
            "12                       [227, 297, 322, 329, 330, 393]\n",
            "13    [518, 520, 534, 555, 559, 563, 567, 591, 593, ...\n",
            "14    [1, 3, 6, 7, 8, 9, 11, 12, 14, 15, 16, 17, 18,...\n",
            "15                                                   []\n",
            "16                                                   []\n",
            "17                                                   []\n",
            "18                                                   []\n",
            "19                                                   []\n",
            "20                                                   []\n",
            "21                                                   []\n",
            "22    [0, 2, 4, 10, 12, 14, 22, 23, 25, 29, 32, 33, ...\n",
            "23                                                   []\n",
            "24                                                   []\n",
            "25    [7, 14, 21, 24, 27, 30, 32, 33, 34, 37, 51, 55...\n",
            "26    [2, 6, 9, 13, 15, 18, 21, 22, 23, 25, 34, 35, ...\n",
            "27    [297, 299, 300, 301, 302, 304, 305, 306, 307, ...\n",
            "28                                                   []\n",
            "29                                                   []\n",
            "30    [834, 836, 837, 838, 841, 844, 848, 849, 852, ...\n",
            "31    [328, 330, 332, 333, 335, 338, 343, 344, 345, ...\n",
            "32    [1, 4, 6, 9, 27, 31, 34, 40, 45, 49, 60, 61, 6...\n",
            "33                                                   []\n",
            "34                                                   []\n",
            "35    [477, 524, 548, 550, 552, 553, 554, 556, 560, ...\n",
            "36    [495, 511, 514, 519, 526, 534, 539, 544, 545, ...\n",
            "37    [3, 4, 6, 7, 10, 11, 13, 14, 15, 16, 17, 18, 1...\n",
            "38                                                   []\n",
            "39    [845, 875, 880, 883, 895, 904, 919, 921, 950, ...\n",
            "dtype: object\n"
          ],
          "name": "stdout"
        }
      ]
    },
    {
      "cell_type": "code",
      "metadata": {
        "id": "Ce0RJEOWQ8TK",
        "colab_type": "code",
        "colab": {
          "base_uri": "https://localhost:8080/",
          "height": 109
        },
        "outputId": "4f3ccd14-2b12-481e-d829-a223071edea7"
      },
      "source": [
        "#@title Select Active Neurons\n",
        "\n",
        "# We need to get the contents of the previous variables (mos, mop, ssp, olf) \n",
        "# from 39 sessions and use them as indexes to data['spks'] to select the active \n",
        "# neurons in each region\n",
        "\n",
        "# E.G: active_neuron [session 1][mop[0]] -> meaning neuron 1 was active in section 1\n",
        "print(mos)\n"
      ],
      "execution_count": null,
      "outputs": [
        {
          "output_type": "stream",
          "text": [
            "(array([ 845,  875,  880,  883,  895,  904,  919,  921,  950,  995, 1003,\n",
            "       1010, 1028, 1039, 1041, 1046, 1054, 1057, 1060, 1067, 1072, 1076,\n",
            "       1078, 1080, 1085, 1088, 1093, 1100, 1101, 1108, 1113, 1131, 1139,\n",
            "       1156, 1163, 1165, 1186, 1202, 1242, 1260, 1292, 1293, 1296, 1300,\n",
            "       1303, 1305, 1320, 1324, 1328, 1332, 1334, 1335, 1338, 1339]),)\n"
          ],
          "name": "stdout"
        }
      ]
    },
    {
      "cell_type": "code",
      "metadata": {
        "id": "818Ff3TUTVIy",
        "colab_type": "code",
        "colab": {}
      },
      "source": [
        "plt.xlim(50,75)\n",
        "plt.legend();#Plot 2: Plot 2: Response Times x Response\n",
        "\n",
        "#we want to observe at which points the mice may have moved the wheel before the go cue\n",
        "#plot the left, right, and no-go responses compared to the response time\n",
        "#variables: dat['response_times']: when the response is registered\n",
        "            #dat['response']: which side the response was on [-1, 0, 1]--left, no go, right  \n",
        "\n",
        "from matplotlib import pyplot as plt\n",
        "response = dat['response'] # right - nogo - left (-1, 0, 1)\n",
        "dt = dat['bin_size']\n",
        "plt.plot()\n"
      ],
      "execution_count": null,
      "outputs": []
    },
    {
      "cell_type": "code",
      "metadata": {
        "id": "1PnvXMaPZ0QF",
        "colab_type": "code",
        "colab": {}
      },
      "source": [
        "#@title Input Matrix\n",
        "########################################################################\n",
        "#                 INPUT MATRIX\n",
        "# In our case, our input is the stimulus (contrast) \n",
        "# and our output is the movement (response).\n",
        "# Since we dont care about constrast level initially,\n",
        "# we can separate the data as follows:\n",
        "########################################################################\n",
        "\n",
        "#Create local variables\n",
        "contrast_left = data[0]['contrast_left']\n",
        "contrast_right = data[0]['contrast_right']\n",
        "feedback = data[0]['feedback_type']\n",
        "\n",
        "# Initialize arrays\n",
        "expected_right = np.zeros(len(contrast_right))\n",
        "expected_left = np.zeros(len(contrast_left))\n",
        "\n",
        "# Find expected answer(movement to the right)\n",
        "for i in range(len(contrast_right)):\n",
        "  expected_right[i] = contrast_right[i] > contrast_left[i]\n",
        "  expected_left[i] = contrast_left[i] > contrast_right[i]\n",
        "\n",
        "expected_right = expected_right*(-1)\n",
        "\n",
        "input = expected_left+expected_right #original data\n",
        "print(input)"
      ],
      "execution_count": null,
      "outputs": []
    },
    {
      "cell_type": "code",
      "metadata": {
        "id": "d-NaApPib9bH",
        "colab_type": "code",
        "colab": {}
      },
      "source": [
        "#@title Output Matrix\n",
        "\n",
        "# Our output is simply the response from the mice.\n",
        "\n",
        "output = dat['response']\n",
        "print(output)"
      ],
      "execution_count": null,
      "outputs": []
    },
    {
      "cell_type": "code",
      "metadata": {
        "id": "SDl454nkZ6TN",
        "colab_type": "code",
        "colab": {}
      },
      "source": [
        "#@title Resample with Replacement\n",
        "\n",
        "def resample_with_replacement(x, y):\n",
        "  \"\"\"Resample data points with replacement from the dataset of `x` inputs and\n",
        "  `y` measurements.\n",
        "  Args:\n",
        "    x (ndarray): An array of shape (samples,) that contains the input values.\n",
        "    y (ndarray): An array of shape (samples,) that contains the corresponding\n",
        "      measurement values to the inputs.\n",
        "  Returns:\n",
        "    ndarray, ndarray: The newly resampled `x` and `y` data points.\n",
        "  \"\"\"\n",
        "\n",
        "  # Get array of indices for resampled points\n",
        "  sample_idx = np.random.choice(len(x), size=len(x), replace=True)\n",
        "\n",
        "  # Sample from x and y according to sample_idx\n",
        "  x_ = x[sample_idx]\n",
        "  y_ = y[sample_idx]\n",
        "\n",
        "  return x_, y_\n",
        "\n",
        "#input_ -> training data\n",
        "\n",
        "input_, output_ = resample_with_replacement(input, output)\n",
        "print(input_)"
      ],
      "execution_count": null,
      "outputs": []
    },
    {
      "cell_type": "code",
      "metadata": {
        "id": "IjHDuAfZaDbK",
        "colab_type": "code",
        "colab": {}
      },
      "source": [
        "#@title Fitting the model\n",
        "from sklearn.linear_model import LogisticRegression\n",
        "from sklearn.model_selection import cross_val_score\n",
        "\n",
        "log_reg = LogisticRegression(penalty=\"none\")\n",
        "input_ = input_.reshape(-1,1)\n",
        "log_reg.fit(input_, output_)\n",
        "output_pred = log_reg.predict(input_)"
      ],
      "execution_count": null,
      "outputs": []
    },
    {
      "cell_type": "code",
      "metadata": {
        "id": "W-LmzhixaHKu",
        "colab_type": "code",
        "colab": {}
      },
      "source": [
        "#@title Accuracy\n",
        "\n",
        "def compute_accuracy(X, y, model):\n",
        "  \"\"\"Compute accuracy of classifier predictions.\n",
        "  \n",
        "  Args:\n",
        "    X (2D array): Data matrix\n",
        "    y (1D array): Label vector\n",
        "    model (sklearn estimator): Classifier with trained weights.\n",
        "  Returns:\n",
        "    accuracy (float): Proportion of correct predictions.  \n",
        "  \"\"\"\n",
        "  y_pred = model.predict(X)\n",
        "  accuracy = (y == y_pred).mean()\n",
        "\n",
        "  return accuracy\n",
        "input = input.reshape(-1,1)\n",
        "train_accuracy = compute_accuracy(input, output, log_reg)\n",
        "print(f\"Accuracy on the training data: {train_accuracy:.2%}\")"
      ],
      "execution_count": null,
      "outputs": []
    },
    {
      "cell_type": "code",
      "metadata": {
        "id": "FSwGXiuwaKkG",
        "colab_type": "code",
        "colab": {}
      },
      "source": [
        "#@title Cross-validation\n",
        "\n",
        "accuracies = cross_val_score(LogisticRegression(penalty='none'), input, output, cv=8)"
      ],
      "execution_count": null,
      "outputs": []
    },
    {
      "cell_type": "code",
      "metadata": {
        "id": "3UXMMUquaXQE",
        "colab_type": "code",
        "colab": {}
      },
      "source": [
        "#@title\n",
        "#@markdown Run to plot out these `k=8` accuracy scores.\n",
        "f, ax = plt.subplots(figsize=(8, 3))\n",
        "ax.boxplot(accuracies, vert=False, widths=.7)\n",
        "ax.scatter(accuracies, np.ones(8))\n",
        "ax.set(\n",
        "  xlabel=\"Accuracy\",\n",
        "  yticks=[],\n",
        "  title=f\"Average test accuracy: {accuracies.mean():.2%}\"\n",
        ")\n",
        "ax.spines[\"left\"].set_visible(False)"
      ],
      "execution_count": null,
      "outputs": []
    }
  ]
}